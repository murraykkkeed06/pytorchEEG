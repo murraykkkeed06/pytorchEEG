{
 "cells": [
  {
   "cell_type": "code",
   "execution_count": 1,
   "id": "9ce5e4e3",
   "metadata": {},
   "outputs": [
    {
     "name": "stderr",
     "output_type": "stream",
     "text": [
      "C:\\Users\\murray\\AppData\\Roaming\\Python\\Python36\\site-packages\\tensorflow\\python\\framework\\dtypes.py:526: FutureWarning: Passing (type, 1) or '1type' as a synonym of type is deprecated; in a future version of numpy, it will be understood as (type, (1,)) / '(1,)type'.\n",
      "  _np_qint8 = np.dtype([(\"qint8\", np.int8, 1)])\n",
      "C:\\Users\\murray\\AppData\\Roaming\\Python\\Python36\\site-packages\\tensorflow\\python\\framework\\dtypes.py:527: FutureWarning: Passing (type, 1) or '1type' as a synonym of type is deprecated; in a future version of numpy, it will be understood as (type, (1,)) / '(1,)type'.\n",
      "  _np_quint8 = np.dtype([(\"quint8\", np.uint8, 1)])\n",
      "C:\\Users\\murray\\AppData\\Roaming\\Python\\Python36\\site-packages\\tensorflow\\python\\framework\\dtypes.py:528: FutureWarning: Passing (type, 1) or '1type' as a synonym of type is deprecated; in a future version of numpy, it will be understood as (type, (1,)) / '(1,)type'.\n",
      "  _np_qint16 = np.dtype([(\"qint16\", np.int16, 1)])\n",
      "C:\\Users\\murray\\AppData\\Roaming\\Python\\Python36\\site-packages\\tensorflow\\python\\framework\\dtypes.py:529: FutureWarning: Passing (type, 1) or '1type' as a synonym of type is deprecated; in a future version of numpy, it will be understood as (type, (1,)) / '(1,)type'.\n",
      "  _np_quint16 = np.dtype([(\"quint16\", np.uint16, 1)])\n",
      "C:\\Users\\murray\\AppData\\Roaming\\Python\\Python36\\site-packages\\tensorflow\\python\\framework\\dtypes.py:530: FutureWarning: Passing (type, 1) or '1type' as a synonym of type is deprecated; in a future version of numpy, it will be understood as (type, (1,)) / '(1,)type'.\n",
      "  _np_qint32 = np.dtype([(\"qint32\", np.int32, 1)])\n",
      "C:\\Users\\murray\\AppData\\Roaming\\Python\\Python36\\site-packages\\tensorflow\\python\\framework\\dtypes.py:535: FutureWarning: Passing (type, 1) or '1type' as a synonym of type is deprecated; in a future version of numpy, it will be understood as (type, (1,)) / '(1,)type'.\n",
      "  np_resource = np.dtype([(\"resource\", np.ubyte, 1)])\n"
     ]
    },
    {
     "name": "stdout",
     "output_type": "stream",
     "text": [
      "WARNING:tensorflow:From C:\\Users\\murray\\AppData\\Roaming\\Python\\Python36\\site-packages\\tensorflow\\python\\compat\\compat.py:175: disable_resource_variables (from tensorflow.python.ops.variable_scope) is deprecated and will be removed in a future version.\n",
      "Instructions for updating:\n",
      "non-resource variables are not supported in the long term\n"
     ]
    }
   ],
   "source": [
    "from gcn_scripts import GCN_Model, graph, coarsening\n",
    "import numpy as np\n",
    "import pandas as pd\n",
    "import matplotlib.pyplot as plt"
   ]
  },
  {
   "cell_type": "code",
   "execution_count": 2,
   "id": "d8a3116a",
   "metadata": {},
   "outputs": [],
   "source": [
    "train_set = pd.read_csv(\"data/final_format/train_set.csv\",header=None).to_numpy()\n",
    "train_label = pd.read_csv(\"data/final_format/train_label.csv\",header=None).to_numpy()\n",
    "test_set = pd.read_csv(\"data/final_format/test_set.csv\",header=None).to_numpy()\n",
    "test_label = pd.read_csv(\"data/final_format/test_label.csv\",header=None).to_numpy()"
   ]
  },
  {
   "cell_type": "code",
   "execution_count": 3,
   "id": "37f64e3c",
   "metadata": {},
   "outputs": [
    {
     "name": "stdout",
     "output_type": "stream",
     "text": [
      "(14393, 4096) (14393, 1) (3599, 4096) (3599, 1)\n"
     ]
    }
   ],
   "source": [
    "print(train_set.shape, train_label.shape, test_set.shape, test_label.shape)"
   ]
  },
  {
   "cell_type": "code",
   "execution_count": 4,
   "id": "27d522cc",
   "metadata": {},
   "outputs": [
    {
     "name": "stdout",
     "output_type": "stream",
     "text": [
      "(14392, 4096) (14392, 1) (3598, 4096) (3598, 1)\n"
     ]
    }
   ],
   "source": [
    "#delet first row data\n",
    "train_set = train_set[1:]\n",
    "train_label = train_label[1:]\n",
    "test_set = test_set[1:]\n",
    "test_label = test_label[1:]\n",
    "print(train_set.shape, train_label.shape, test_set.shape, test_label.shape)"
   ]
  },
  {
   "cell_type": "code",
   "execution_count": 5,
   "id": "3a2bce75",
   "metadata": {},
   "outputs": [
    {
     "name": "stdout",
     "output_type": "stream",
     "text": [
      "(14392, 64, 64) (14392,) (3598, 64, 64) (3598,)\n"
     ]
    }
   ],
   "source": [
    "train_set = train_set.reshape((-1,64,64))\n",
    "train_set = np.transpose(train_set, (0, 2, 1))\n",
    "test_set = test_set.reshape((-1,64,64))\n",
    "test_set = np.transpose(test_set, (0, 2, 1))\n",
    "train_label = train_label.reshape(-1)\n",
    "test_label = test_label.reshape(-1)\n",
    "print(train_set.shape, train_label.shape, test_set.shape, test_label.shape)"
   ]
  },
  {
   "cell_type": "code",
   "execution_count": 6,
   "id": "06f6cea9",
   "metadata": {},
   "outputs": [
    {
     "name": "stdout",
     "output_type": "stream",
     "text": [
      "(921088, 64) (921088,) (230272, 64) (230272,)\n"
     ]
    }
   ],
   "source": [
    "#set data for gcn model\n",
    "train_label_holder = np.ones((0))\n",
    "test_label_holder = np.ones((0))\n",
    "\n",
    "for i in range(train_set.shape[0]):\n",
    "    temp = np.full((64), train_label[i])\n",
    "    train_label_holder = np.concatenate((train_label_holder, temp), axis=0)\n",
    "    \n",
    "for i in range(test_set.shape[0]):\n",
    "    temp = np.full((64), test_label[i])\n",
    "    test_label_holder = np.concatenate((test_label_holder, temp), axis=0)\n",
    "\n",
    "train_set = train_set.reshape((-1,64))\n",
    "test_set = test_set.reshape((-1,64))\n",
    "train_label = train_label_holder\n",
    "test_label = test_label_holder\n",
    "print(train_set.shape, train_label.shape, test_set.shape, test_label.shape)"
   ]
  },
  {
   "cell_type": "code",
   "execution_count": 7,
   "id": "c9c2d6d2",
   "metadata": {},
   "outputs": [],
   "source": [
    "dist, idx = graph.distance_scipy_spatial(train_set.T, k=10, metric='euclidean')\n",
    "A = graph.adjacency(dist, idx).astype(np.float32)"
   ]
  },
  {
   "cell_type": "code",
   "execution_count": 8,
   "id": "3a11007b",
   "metadata": {},
   "outputs": [
    {
     "data": {
      "image/png": "[encoded data removed]",
      "text/plain": [
       "<Figure size 432x288 with 1 Axes>"
      ]
     },
     "metadata": {
      "needs_background": "light"
     },
     "output_type": "display_data"
    }
   ],
   "source": [
    "plt.spy(A, markersize=2, color='black');"
   ]
  },
  {
   "cell_type": "code",
   "execution_count": 9,
   "id": "1f246127",
   "metadata": {},
   "outputs": [
    {
     "name": "stdout",
     "output_type": "stream",
     "text": [
      "Layer 0: M_0 = |V| = 96 nodes (32 added),|E| = 401 edges\n",
      "Layer 1: M_1 = |V| = 48 nodes (15 added),|E| = 172 edges\n",
      "Layer 2: M_2 = |V| = 24 nodes (7 added),|E| = 65 edges\n",
      "Layer 3: M_3 = |V| = 12 nodes (3 added),|E| = 23 edges\n",
      "Layer 4: M_4 = |V| = 6 nodes (1 added),|E| = 9 edges\n",
      "Layer 5: M_5 = |V| = 3 nodes (0 added),|E| = 3 edges\n"
     ]
    }
   ],
   "source": [
    "graphs, perm = coarsening.coarsen(A, levels=5, self_connections=False)"
   ]
  },
  {
   "cell_type": "code",
   "execution_count": 10,
   "id": "75b63df3",
   "metadata": {},
   "outputs": [],
   "source": [
    "X_train = coarsening.perm_data(train_set, perm)\n",
    "X_test  = coarsening.perm_data(test_set,  perm)"
   ]
  },
  {
   "cell_type": "code",
   "execution_count": 11,
   "id": "818789c2",
   "metadata": {},
   "outputs": [
    {
     "data": {
      "image/png": "[encoded data removed]",
      "text/plain": [
       "<Figure size 1224x360 with 1 Axes>"
      ]
     },
     "metadata": {
      "needs_background": "light"
     },
     "output_type": "display_data"
    }
   ],
   "source": [
    "L = [graph.laplacian(A, normalized=True) for A in graphs]\n",
    "graph.plot_spectrum(L)"
   ]
  },
  {
   "cell_type": "code",
   "execution_count": 12,
   "id": "dee16db3",
   "metadata": {},
   "outputs": [],
   "source": [
    "params = dict()\n",
    "params['dir_name']       = 'Graph_Convolutional_Neural_Network'\n",
    "params['num_epochs']     = 100\n",
    "params['batch_size']     = 1024\n",
    "params['eval_frequency'] = 100\n",
    "\n",
    "# Building blocks.\n",
    "params['filter'] = 'chebyshev5'\n",
    "params['brelu']  = 'b2relu'\n",
    "params['pool']   = 'mpool1'\n",
    "\n",
    "# Architecture.\n",
    "params['F'] = [16, 32, 64, 128, 256, 512]  # Number of graph convolutional filters.\n",
    "params['K'] = [2, 2, 2, 2, 2, 2]           # Polynomial orders.\n",
    "params['p'] = [2, 2, 2, 2, 2, 2]           # Pooling sizes.\n",
    "params['M'] = [4]                          # Output dimensionality of fully connected layers.\n",
    "\n",
    "# Optimization.\n",
    "params['regularization'] = 0.001     # L2 regularization\n",
    "params['dropout']        = 0.50      # Dropout rate\n",
    "params['learning_rate']  = 0.000001  # Learning rate\n",
    "params['decay_rate']     = 1         # Learning rate Decay == 1 means no Decay\n",
    "params['momentum']       = 0         # momentum == 0 means Use Adam Optimizer\n",
    "params['decay_steps']    = np.shape(train_set)[0] / params['batch_size']\n"
   ]
  },
  {
   "cell_type": "code",
   "execution_count": null,
   "id": "026cc015",
   "metadata": {},
   "outputs": [
    {
     "name": "stdout",
     "output_type": "stream",
     "text": [
      "NN architecture\n",
      "input: M_0 = 96\n",
      "layer 1: cgconv1\n",
      "representation: M_0 * F_1 / p_1 = 96 * 16 / 2 = 768\n",
      "weights: F_0 * F_1 * K_1 = 1 * 16 * 2 = 32\n",
      "biases: M_1 * F_1 = 96 * 16 = 1536\n",
      "layer 2: cgconv2\n",
      "representation: M_1 * F_2 / p_2 = 48 * 32 / 2 = 768\n",
      "weights: F_1 * F_2 * K_2 = 16 * 32 * 2 = 1024\n",
      "biases: M_2 * F_2 = 48 * 32 = 1536\n",
      "layer 3: cgconv3\n",
      "representation: M_2 * F_3 / p_3 = 24 * 64 / 2 = 768\n",
      "weights: F_2 * F_3 * K_3 = 32 * 64 * 2 = 4096\n",
      "biases: M_3 * F_3 = 24 * 64 = 1536\n",
      "layer 4: cgconv4\n",
      "representation: M_3 * F_4 / p_4 = 12 * 128 / 2 = 768\n",
      "weights: F_3 * F_4 * K_4 = 64 * 128 * 2 = 16384\n",
      "biases: M_4 * F_4 = 12 * 128 = 1536\n",
      "layer 5: cgconv5\n",
      "representation: M_4 * F_5 / p_5 = 6 * 256 / 2 = 768\n",
      "weights: F_4 * F_5 * K_5 = 128 * 256 * 2 = 65536\n",
      "biases: M_5 * F_5 = 6 * 256 = 1536\n",
      "layer 6: cgconv6\n",
      "representation: M_5 * F_6 / p_6 = 3 * 512 / 2 = 768\n",
      "weights: F_5 * F_6 * K_6 = 256 * 512 * 2 = 262144\n",
      "biases: M_6 * F_6 = 3 * 512 = 1536\n",
      "layer 7: logits (softmax)\n",
      "representation: M_7 = 4\n",
      "weights: M_6 * M_7 = 768 * 4 = 3072\n",
      "biases: M_7 = 4\n",
      "WARNING:tensorflow:From C:\\Users\\murray\\AppData\\Roaming\\Python\\Python36\\site-packages\\tensorflow\\python\\framework\\op_def_library.py:263: colocate_with (from tensorflow.python.framework.ops) is deprecated and will be removed in a future version.\n",
      "Instructions for updating:\n",
      "Colocations handled automatically by placer.\n",
      "WARNING:tensorflow:From C:\\Users\\murray\\pytorchEEG\\gcn_scripts\\GCN_Model.py:882: batch_normalization (from tensorflow.python.layers.normalization) is deprecated and will be removed in a future version.\n",
      "Instructions for updating:\n",
      "Use keras.layers.batch_normalization instead.\n",
      "WARNING:tensorflow:From C:\\Users\\murray\\pytorchEEG\\gcn_scripts\\GCN_Model.py:502: to_int64 (from tensorflow.python.ops.math_ops) is deprecated and will be removed in a future version.\n",
      "Instructions for updating:\n",
      "Use tf.cast instead.\n",
      "warning: conv1/weights has no gradient\n",
      "warning: conv1/bias has no gradient\n",
      "warning: conv1/batch_normalization/gamma has no gradient\n",
      "warning: conv1/batch_normalization/beta has no gradient\n",
      "warning: conv2/weights has no gradient\n",
      "warning: conv2/bias has no gradient\n",
      "warning: conv2/batch_normalization/gamma has no gradient\n",
      "warning: conv2/batch_normalization/beta has no gradient\n",
      "warning: conv3/weights has no gradient\n",
      "warning: conv3/bias has no gradient\n",
      "warning: conv3/batch_normalization/gamma has no gradient\n",
      "warning: conv3/batch_normalization/beta has no gradient\n",
      "warning: conv4/weights has no gradient\n",
      "warning: conv4/bias has no gradient\n",
      "warning: conv4/batch_normalization/gamma has no gradient\n",
      "warning: conv4/batch_normalization/beta has no gradient\n",
      "warning: conv5/weights has no gradient\n",
      "warning: conv5/bias has no gradient\n",
      "warning: conv5/batch_normalization/gamma has no gradient\n",
      "warning: conv5/batch_normalization/beta has no gradient\n",
      "warning: conv6/weights has no gradient\n",
      "warning: conv6/bias has no gradient\n",
      "warning: conv6/batch_normalization/gamma has no gradient\n",
      "warning: conv6/batch_normalization/beta has no gradient\n",
      "warning: logits/batch_normalization/gamma has no gradient\n",
      "warning: logits/batch_normalization/beta has no gradient\n",
      "step 100 / 89950 (epoch 0.11 / 100):\n",
      "learning_rate = 0.000001, loss_average = 0.015973\n",
      "validation accuracy: 25.328742 (58325 / 230272), f1: 16.092909, loss: 0.015980\n",
      "time: 6s (wall 5s)\n",
      "step 200 / 89950 (epoch 0.22 / 100):\n",
      "learning_rate = 0.000001, loss_average = 0.015943\n",
      "validation accuracy: 25.329176 (58326 / 230272), f1: 16.095617, loss: 0.015951\n",
      "time: 11s (wall 9s)\n",
      "step 300 / 89950 (epoch 0.33 / 100):\n",
      "learning_rate = 0.000001, loss_average = 0.015914\n",
      "validation accuracy: 25.332650 (58334 / 230272), f1: 16.101213, loss: 0.015921\n",
      "time: 16s (wall 13s)\n",
      "step 400 / 89950 (epoch 0.44 / 100):\n",
      "learning_rate = 0.000001, loss_average = 0.015884\n",
      "validation accuracy: 25.330913 (58330 / 230272), f1: 16.102026, loss: 0.015891\n",
      "time: 22s (wall 19s)\n",
      "step 500 / 89950 (epoch 0.56 / 100):\n",
      "learning_rate = 0.000001, loss_average = 0.015854\n",
      "validation accuracy: 25.333519 (58336 / 230272), f1: 16.107418, loss: 0.015862\n",
      "time: 29s (wall 25s)\n",
      "step 600 / 89950 (epoch 0.67 / 100):\n",
      "learning_rate = 0.000001, loss_average = 0.015825\n",
      "validation accuracy: 25.331347 (58331 / 230272), f1: 16.108184, loss: 0.015832\n",
      "time: 36s (wall 31s)\n",
      "WARNING:tensorflow:From C:\\Users\\murray\\AppData\\Roaming\\Python\\Python36\\site-packages\\tensorflow\\python\\training\\saver.py:966: remove_checkpoint (from tensorflow.python.training.checkpoint_management) is deprecated and will be removed in a future version.\n",
      "Instructions for updating:\n",
      "Use standard file APIs to delete files with this prefix.\n",
      "step 700 / 89950 (epoch 0.78 / 100):\n",
      "learning_rate = 0.000001, loss_average = 0.015795\n",
      "validation accuracy: 25.330044 (58328 / 230272), f1: 16.109574, loss: 0.015803\n",
      "time: 45s (wall 39s)\n",
      "step 800 / 89950 (epoch 0.89 / 100):\n",
      "learning_rate = 0.000001, loss_average = 0.015766\n",
      "validation accuracy: 25.328307 (58324 / 230272), f1: 16.112546, loss: 0.015773\n",
      "time: 54s (wall 47s)\n",
      "step 900 / 89950 (epoch 1.00 / 100):\n",
      "learning_rate = 0.000001, loss_average = 0.015737\n",
      "validation accuracy: 25.330913 (58330 / 230272), f1: 16.117318, loss: 0.015744\n",
      "time: 64s (wall 56s)\n",
      "step 1000 / 89950 (epoch 1.11 / 100):\n",
      "learning_rate = 0.000001, loss_average = 0.015707\n",
      "validation accuracy: 25.332650 (58334 / 230272), f1: 16.121840, loss: 0.015715\n",
      "time: 75s (wall 66s)\n",
      "step 1100 / 89950 (epoch 1.22 / 100):\n",
      "learning_rate = 0.000001, loss_average = 0.015678\n",
      "validation accuracy: 25.333084 (58335 / 230272), f1: 16.124185, loss: 0.015685\n",
      "time: 86s (wall 77s)\n",
      "step 1200 / 89950 (epoch 1.33 / 100):\n",
      "learning_rate = 0.000001, loss_average = 0.015649\n",
      "validation accuracy: 25.331347 (58331 / 230272), f1: 16.126323, loss: 0.015656\n",
      "time: 98s (wall 88s)\n",
      "step 1300 / 89950 (epoch 1.45 / 100):\n",
      "learning_rate = 0.000001, loss_average = 0.015620\n",
      "validation accuracy: 25.333519 (58336 / 230272), f1: 16.130898, loss: 0.015627\n",
      "time: 111s (wall 99s)\n",
      "step 1400 / 89950 (epoch 1.56 / 100):\n",
      "learning_rate = 0.000001, loss_average = 0.015591\n",
      "validation accuracy: 25.335256 (58340 / 230272), f1: 16.134779, loss: 0.015598\n",
      "time: 124s (wall 112s)\n",
      "step 1500 / 89950 (epoch 1.67 / 100):\n",
      "learning_rate = 0.000001, loss_average = 0.015562\n",
      "validation accuracy: 25.334387 (58338 / 230272), f1: 16.138381, loss: 0.015569\n",
      "time: 138s (wall 125s)\n",
      "step 1600 / 89950 (epoch 1.78 / 100):\n",
      "learning_rate = 0.000001, loss_average = 0.015533\n",
      "validation accuracy: 25.328742 (58325 / 230272), f1: 16.137731, loss: 0.015540\n",
      "time: 153s (wall 138s)\n",
      "step 1700 / 89950 (epoch 1.89 / 100):\n",
      "learning_rate = 0.000001, loss_average = 0.015504\n",
      "validation accuracy: 25.332216 (58333 / 230272), f1: 16.143162, loss: 0.015511\n",
      "time: 169s (wall 153s)\n",
      "step 1800 / 89950 (epoch 2.00 / 100):\n",
      "learning_rate = 0.000001, loss_average = 0.015475\n",
      "validation accuracy: 25.331782 (58332 / 230272), f1: 16.146137, loss: 0.015482\n",
      "time: 185s (wall 168s)\n",
      "step 1900 / 89950 (epoch 2.11 / 100):\n",
      "learning_rate = 0.000001, loss_average = 0.015446\n",
      "validation accuracy: 25.333519 (58336 / 230272), f1: 16.151756, loss: 0.015453\n",
      "time: 201s (wall 184s)\n",
      "step 2000 / 89950 (epoch 2.22 / 100):\n",
      "learning_rate = 0.000001, loss_average = 0.015418\n",
      "validation accuracy: 25.332650 (58334 / 230272), f1: 16.153822, loss: 0.015425\n",
      "time: 218s (wall 200s)\n",
      "step 2100 / 89950 (epoch 2.33 / 100):\n",
      "learning_rate = 0.000001, loss_average = 0.015389\n",
      "validation accuracy: 25.333084 (58335 / 230272), f1: 16.157086, loss: 0.015396\n",
      "time: 236s (wall 217s)\n",
      "step 2200 / 89950 (epoch 2.45 / 100):\n",
      "learning_rate = 0.000001, loss_average = 0.015360\n",
      "validation accuracy: 25.337861 (58346 / 230272), f1: 16.164740, loss: 0.015367\n",
      "time: 255s (wall 235s)\n",
      "step 2300 / 89950 (epoch 2.56 / 100):\n",
      "learning_rate = 0.000001, loss_average = 0.015331\n",
      "validation accuracy: 25.340901 (58353 / 230272), f1: 16.171834, loss: 0.015339\n",
      "time: 274s (wall 253s)\n",
      "step 2400 / 89950 (epoch 2.67 / 100):\n",
      "learning_rate = 0.000001, loss_average = 0.015303\n",
      "validation accuracy: 25.343073 (58358 / 230272), f1: 16.177049, loss: 0.015310\n",
      "time: 296s (wall 274s)\n",
      "step 2500 / 89950 (epoch 2.78 / 100):\n",
      "learning_rate = 0.000001, loss_average = 0.015274\n",
      "validation accuracy: 25.344810 (58362 / 230272), f1: 16.181850, loss: 0.015281\n",
      "time: 317s (wall 294s)\n",
      "step 2600 / 89950 (epoch 2.89 / 100):\n",
      "learning_rate = 0.000001, loss_average = 0.015246\n"
     ]
    }
   ],
   "source": [
    "model = GCN_Model.cgcnn(L, **params)\n",
    "accuracy, loss, t_step = model.fit(X_train, train_label, X_test, test_label)"
   ]
  },
  {
   "cell_type": "code",
   "execution_count": null,
   "id": "8525ecd2",
   "metadata": {},
   "outputs": [],
   "source": []
  },
  {
   "cell_type": "code",
   "execution_count": null,
   "id": "826d4e44",
   "metadata": {},
   "outputs": [],
   "source": []
  },
  {
   "cell_type": "code",
   "execution_count": null,
   "id": "7ce71586",
   "metadata": {},
   "outputs": [],
   "source": []
  }
 ],
 "metadata": {
  "kernelspec": {
   "display_name": "Python 3",
   "language": "python",
   "name": "python3"
  },
  "language_info": {
   "codemirror_mode": {
    "name": "ipython",
    "version": 3
   },
   "file_extension": ".py",
   "mimetype": "text/x-python",
   "name": "python",
   "nbconvert_exporter": "python",
   "pygments_lexer": "ipython3",
   "version": "3.6.13"
  }
 },
 "nbformat": 4,
 "nbformat_minor": 5
}
