{
 "cells": [
  {
   "cell_type": "code",
   "execution_count": 1,
   "id": "9ce5e4e3",
   "metadata": {},
   "outputs": [
    {
     "name": "stderr",
     "output_type": "stream",
     "text": [
      "C:\\Users\\murray\\AppData\\Roaming\\Python\\Python36\\site-packages\\tensorflow\\python\\framework\\dtypes.py:526: FutureWarning: Passing (type, 1) or '1type' as a synonym of type is deprecated; in a future version of numpy, it will be understood as (type, (1,)) / '(1,)type'.\n",
      "  _np_qint8 = np.dtype([(\"qint8\", np.int8, 1)])\n",
      "C:\\Users\\murray\\AppData\\Roaming\\Python\\Python36\\site-packages\\tensorflow\\python\\framework\\dtypes.py:527: FutureWarning: Passing (type, 1) or '1type' as a synonym of type is deprecated; in a future version of numpy, it will be understood as (type, (1,)) / '(1,)type'.\n",
      "  _np_quint8 = np.dtype([(\"quint8\", np.uint8, 1)])\n",
      "C:\\Users\\murray\\AppData\\Roaming\\Python\\Python36\\site-packages\\tensorflow\\python\\framework\\dtypes.py:528: FutureWarning: Passing (type, 1) or '1type' as a synonym of type is deprecated; in a future version of numpy, it will be understood as (type, (1,)) / '(1,)type'.\n",
      "  _np_qint16 = np.dtype([(\"qint16\", np.int16, 1)])\n",
      "C:\\Users\\murray\\AppData\\Roaming\\Python\\Python36\\site-packages\\tensorflow\\python\\framework\\dtypes.py:529: FutureWarning: Passing (type, 1) or '1type' as a synonym of type is deprecated; in a future version of numpy, it will be understood as (type, (1,)) / '(1,)type'.\n",
      "  _np_quint16 = np.dtype([(\"quint16\", np.uint16, 1)])\n",
      "C:\\Users\\murray\\AppData\\Roaming\\Python\\Python36\\site-packages\\tensorflow\\python\\framework\\dtypes.py:530: FutureWarning: Passing (type, 1) or '1type' as a synonym of type is deprecated; in a future version of numpy, it will be understood as (type, (1,)) / '(1,)type'.\n",
      "  _np_qint32 = np.dtype([(\"qint32\", np.int32, 1)])\n",
      "C:\\Users\\murray\\AppData\\Roaming\\Python\\Python36\\site-packages\\tensorflow\\python\\framework\\dtypes.py:535: FutureWarning: Passing (type, 1) or '1type' as a synonym of type is deprecated; in a future version of numpy, it will be understood as (type, (1,)) / '(1,)type'.\n",
      "  np_resource = np.dtype([(\"resource\", np.ubyte, 1)])\n"
     ]
    }
   ],
   "source": [
    "from gcn_scripts import ResGCN_Model, graph, coarsening\n",
    "import numpy as np\n",
    "import pandas as pd\n",
    "import matplotlib.pyplot as plt"
   ]
  },
  {
   "cell_type": "code",
   "execution_count": 2,
   "id": "d8a3116a",
   "metadata": {},
   "outputs": [],
   "source": [
    "train_set = pd.read_csv(\"data/final_format/train_set.csv\",header=None).to_numpy()\n",
    "train_label = pd.read_csv(\"data/final_format/train_label.csv\",header=None).to_numpy()\n",
    "test_set = pd.read_csv(\"data/final_format/test_set.csv\",header=None).to_numpy()\n",
    "test_label = pd.read_csv(\"data/final_format/test_label.csv\",header=None).to_numpy()"
   ]
  },
  {
   "cell_type": "code",
   "execution_count": 3,
   "id": "37f64e3c",
   "metadata": {},
   "outputs": [
    {
     "name": "stdout",
     "output_type": "stream",
     "text": [
      "(14393, 4096) (14393, 1) (3599, 4096) (3599, 1)\n"
     ]
    }
   ],
   "source": [
    "print(train_set.shape, train_label.shape, test_set.shape, test_label.shape)"
   ]
  },
  {
   "cell_type": "code",
   "execution_count": 4,
   "id": "27d522cc",
   "metadata": {},
   "outputs": [
    {
     "name": "stdout",
     "output_type": "stream",
     "text": [
      "(14392, 4096) (14392, 1) (3598, 4096) (3598, 1)\n"
     ]
    }
   ],
   "source": [
    "#delet first row data\n",
    "train_set = train_set[1:]\n",
    "train_label = train_label[1:]\n",
    "test_set = test_set[1:]\n",
    "test_label = test_label[1:]\n",
    "print(train_set.shape, train_label.shape, test_set.shape, test_label.shape)"
   ]
  },
  {
   "cell_type": "code",
   "execution_count": 5,
   "id": "b24157d6",
   "metadata": {},
   "outputs": [
    {
     "name": "stdout",
     "output_type": "stream",
     "text": [
      "(14392, 64, 64) (14392,) (3598, 64, 64) (3598,)\n"
     ]
    }
   ],
   "source": [
    "train_set = train_set.reshape((-1,64,64))\n",
    "train_set = np.transpose(train_set, (0, 2, 1))\n",
    "test_set = test_set.reshape((-1,64,64))\n",
    "test_set = np.transpose(test_set, (0, 2, 1))\n",
    "train_label = train_label.reshape(-1)\n",
    "test_label = test_label.reshape(-1)\n",
    "print(train_set.shape, train_label.shape, test_set.shape, test_label.shape)"
   ]
  },
  {
   "cell_type": "code",
   "execution_count": 6,
   "id": "591e2464",
   "metadata": {},
   "outputs": [
    {
     "name": "stdout",
     "output_type": "stream",
     "text": [
      "(921088, 64) (921088,) (230272, 64) (230272,)\n"
     ]
    }
   ],
   "source": [
    "#set data for gcn model\n",
    "train_label_holder = np.ones((0))\n",
    "test_label_holder = np.ones((0))\n",
    "\n",
    "for i in range(train_set.shape[0]):\n",
    "    temp = np.full((64), train_label[i])\n",
    "    train_label_holder = np.concatenate((train_label_holder, temp), axis=0)\n",
    "    \n",
    "for i in range(test_set.shape[0]):\n",
    "    temp = np.full((64), test_label[i])\n",
    "    test_label_holder = np.concatenate((test_label_holder, temp), axis=0)\n",
    "\n",
    "train_set = train_set.reshape((-1,64))\n",
    "test_set = test_set.reshape((-1,64))\n",
    "train_label = train_label_holder\n",
    "test_label = test_label_holder\n",
    "print(train_set.shape, train_label.shape, test_set.shape, test_label.shape)"
   ]
  },
  {
   "cell_type": "code",
   "execution_count": 7,
   "id": "346c28e9",
   "metadata": {},
   "outputs": [],
   "source": [
    "dist, idx = graph.distance_scipy_spatial(train_set.T, k=10, metric='euclidean')\n",
    "A = graph.adjacency(dist, idx).astype(np.float32)"
   ]
  },
  {
   "cell_type": "code",
   "execution_count": 8,
   "id": "00d655be",
   "metadata": {},
   "outputs": [
    {
     "data": {
      "image/png": "[encoded data removed]",
      "text/plain": [
       "<Figure size 432x288 with 1 Axes>"
      ]
     },
     "metadata": {
      "needs_background": "light"
     },
     "output_type": "display_data"
    }
   ],
   "source": [
    "plt.spy(A, markersize=2, color='black');"
   ]
  },
  {
   "cell_type": "code",
   "execution_count": 9,
   "id": "735a9aef",
   "metadata": {},
   "outputs": [
    {
     "name": "stdout",
     "output_type": "stream",
     "text": [
      "Layer 0: M_0 = |V| = 96 nodes (32 added),|E| = 401 edges\n",
      "Layer 1: M_1 = |V| = 48 nodes (15 added),|E| = 165 edges\n",
      "Layer 2: M_2 = |V| = 24 nodes (7 added),|E| = 58 edges\n",
      "Layer 3: M_3 = |V| = 12 nodes (3 added),|E| = 20 edges\n",
      "Layer 4: M_4 = |V| = 6 nodes (1 added),|E| = 7 edges\n",
      "Layer 5: M_5 = |V| = 3 nodes (0 added),|E| = 3 edges\n"
     ]
    }
   ],
   "source": [
    "graphs, perm = coarsening.coarsen(A, levels=5, self_connections=False)"
   ]
  },
  {
   "cell_type": "code",
   "execution_count": 10,
   "id": "cc301905",
   "metadata": {},
   "outputs": [],
   "source": [
    "X_train = coarsening.perm_data(train_set, perm)\n",
    "X_test  = coarsening.perm_data(test_set,  perm)"
   ]
  },
  {
   "cell_type": "code",
   "execution_count": 11,
   "id": "8b5c3000",
   "metadata": {},
   "outputs": [
    {
     "data": {
      "image/png": "[encoded data removed]",
      "text/plain": [
       "<Figure size 1224x360 with 1 Axes>"
      ]
     },
     "metadata": {
      "needs_background": "light"
     },
     "output_type": "display_data"
    }
   ],
   "source": [
    "L = [graph.laplacian(A, normalized=True) for A in graphs]\n",
    "graph.plot_spectrum(L)"
   ]
  },
  {
   "cell_type": "code",
   "execution_count": 12,
   "id": "c0206b75",
   "metadata": {},
   "outputs": [],
   "source": [
    "params = dict()\n",
    "params['dir_name']       = \"ResGCN\"\n",
    "params['num_epochs']     = 50\n",
    "params['batch_size']     = 1024\n",
    "params['eval_frequency'] = 100\n",
    "\n",
    "# Building blocks.\n",
    "params['filter'] = 'chebyshev5'\n",
    "params['brelu']  = 'b2relu'\n",
    "params['pool']   = 'mpool1'\n",
    "\n",
    "# Architecture.\n",
    "params['F'] = [16, 16, 16, 32, 32, 32, 64, 64, 64, 128, 128, 128, 256, 256, 256, 512, 512, 512]    # Number of graph convolutional filters.\n",
    "params['K'] = [3, 3, 3, 3, 3, 3, 3, 3, 3, 3, 3, 3, 3, 3, 3, 3, 3, 3]                               # Polynomial orders.\n",
    "params['p'] = [1, 1, 2, 1, 1, 2, 1, 1, 2, 1, 1, 2, 1, 1, 2, 1, 1, 2]                               # Pooling sizes.\n",
    "params['M'] = [4]                                                                                  # Output dimensionality of fully connected layers.\n",
    "\n",
    "# Optimization.\n",
    "params['regularization'] = 0.001  # L2 regularization\n",
    "params['dropout']        = 0.50   # Dropout rate\n",
    "params['learning_rate']  = 0.001  # Learning rate\n",
    "params['decay_rate']     = 1      # Learning rate Decay == 1 means no Decay\n",
    "params['momentum']       = 0      # momentum == 0 means Use Adam Optimizer\n",
    "params['decay_steps']    = np.shape(train_set)[0] / params['batch_size']"
   ]
  },
  {
   "cell_type": "code",
   "execution_count": null,
   "id": "7c4d3af1",
   "metadata": {},
   "outputs": [
    {
     "name": "stdout",
     "output_type": "stream",
     "text": [
      "NN architecture\n",
      "input: M_0 = 96\n",
      "layer 1: cgconv1\n",
      "representation: M_0 * F_1 / p_1 = 96 * 16 / 1 = 1536\n",
      "weights: F_0 * F_1 * K_1 = 1 * 16 * 3 = 48\n",
      "biases: M_1 * F_1 = 96 * 16 = 1536\n",
      "layer 2: cgconv2\n",
      "representation: M_1 * F_2 / p_2 = 96 * 16 / 1 = 1536\n",
      "weights: F_1 * F_2 * K_2 = 16 * 16 * 3 = 768\n",
      "biases: M_2 * F_2 = 96 * 16 = 1536\n",
      "layer 3: cgconv3\n",
      "representation: M_2 * F_3 / p_3 = 96 * 16 / 2 = 768\n",
      "weights: F_2 * F_3 * K_3 = 16 * 16 * 3 = 768\n",
      "biases: M_3 * F_3 = 96 * 16 = 1536\n",
      "layer 4: cgconv4\n",
      "representation: M_3 * F_4 / p_4 = 48 * 32 / 1 = 1536\n",
      "weights: F_3 * F_4 * K_4 = 16 * 32 * 3 = 1536\n",
      "biases: M_4 * F_4 = 48 * 32 = 1536\n",
      "layer 5: cgconv5\n",
      "representation: M_4 * F_5 / p_5 = 48 * 32 / 1 = 1536\n",
      "weights: F_4 * F_5 * K_5 = 32 * 32 * 3 = 3072\n",
      "biases: M_5 * F_5 = 48 * 32 = 1536\n",
      "layer 6: cgconv6\n",
      "representation: M_5 * F_6 / p_6 = 48 * 32 / 2 = 768\n",
      "weights: F_5 * F_6 * K_6 = 32 * 32 * 3 = 3072\n",
      "biases: M_6 * F_6 = 48 * 32 = 1536\n",
      "layer 7: cgconv7\n",
      "representation: M_6 * F_7 / p_7 = 24 * 64 / 1 = 1536\n",
      "weights: F_6 * F_7 * K_7 = 32 * 64 * 3 = 6144\n",
      "biases: M_7 * F_7 = 24 * 64 = 1536\n",
      "layer 8: cgconv8\n",
      "representation: M_7 * F_8 / p_8 = 24 * 64 / 1 = 1536\n",
      "weights: F_7 * F_8 * K_8 = 64 * 64 * 3 = 12288\n",
      "biases: M_8 * F_8 = 24 * 64 = 1536\n",
      "layer 9: cgconv9\n",
      "representation: M_8 * F_9 / p_9 = 24 * 64 / 2 = 768\n",
      "weights: F_8 * F_9 * K_9 = 64 * 64 * 3 = 12288\n",
      "biases: M_9 * F_9 = 24 * 64 = 1536\n",
      "layer 10: cgconv10\n",
      "representation: M_9 * F_10 / p_10 = 12 * 128 / 1 = 1536\n",
      "weights: F_9 * F_10 * K_10 = 64 * 128 * 3 = 24576\n",
      "biases: M_10 * F_10 = 12 * 128 = 1536\n",
      "layer 11: cgconv11\n",
      "representation: M_10 * F_11 / p_11 = 12 * 128 / 1 = 1536\n",
      "weights: F_10 * F_11 * K_11 = 128 * 128 * 3 = 49152\n",
      "biases: M_11 * F_11 = 12 * 128 = 1536\n",
      "layer 12: cgconv12\n",
      "representation: M_11 * F_12 / p_12 = 12 * 128 / 2 = 768\n",
      "weights: F_11 * F_12 * K_12 = 128 * 128 * 3 = 49152\n",
      "biases: M_12 * F_12 = 12 * 128 = 1536\n",
      "layer 13: cgconv13\n",
      "representation: M_12 * F_13 / p_13 = 6 * 256 / 1 = 1536\n",
      "weights: F_12 * F_13 * K_13 = 128 * 256 * 3 = 98304\n",
      "biases: M_13 * F_13 = 6 * 256 = 1536\n",
      "layer 14: cgconv14\n",
      "representation: M_13 * F_14 / p_14 = 6 * 256 / 1 = 1536\n",
      "weights: F_13 * F_14 * K_14 = 256 * 256 * 3 = 196608\n",
      "biases: M_14 * F_14 = 6 * 256 = 1536\n",
      "layer 15: cgconv15\n",
      "representation: M_14 * F_15 / p_15 = 6 * 256 / 2 = 768\n",
      "weights: F_14 * F_15 * K_15 = 256 * 256 * 3 = 196608\n",
      "biases: M_15 * F_15 = 6 * 256 = 1536\n",
      "layer 16: cgconv16\n",
      "representation: M_15 * F_16 / p_16 = 3 * 512 / 1 = 1536\n",
      "weights: F_15 * F_16 * K_16 = 256 * 512 * 3 = 393216\n",
      "biases: M_16 * F_16 = 3 * 512 = 1536\n",
      "layer 17: cgconv17\n",
      "representation: M_16 * F_17 / p_17 = 3 * 512 / 1 = 1536\n",
      "weights: F_16 * F_17 * K_17 = 512 * 512 * 3 = 786432\n",
      "biases: M_17 * F_17 = 3 * 512 = 1536\n",
      "layer 18: cgconv18\n",
      "representation: M_17 * F_18 / p_18 = 3 * 512 / 2 = 768\n",
      "weights: F_17 * F_18 * K_18 = 512 * 512 * 3 = 786432\n",
      "biases: M_18 * F_18 = 3 * 512 = 1536\n",
      "layer 19: logits (softmax)\n",
      "representation: M_19 = 4\n",
      "weights: M_18 * M_19 = 768 * 4 = 3072\n",
      "biases: M_19 = 4\n",
      "WARNING:tensorflow:From C:\\Users\\murray\\AppData\\Roaming\\Python\\Python36\\site-packages\\tensorflow\\python\\framework\\op_def_library.py:263: colocate_with (from tensorflow.python.framework.ops) is deprecated and will be removed in a future version.\n",
      "Instructions for updating:\n",
      "Colocations handled automatically by placer.\n",
      "WARNING:tensorflow:From C:\\Users\\murray\\pytorchEEG\\gcn_scripts\\ResGCN_Model.py:590: batch_normalization (from tensorflow.python.layers.normalization) is deprecated and will be removed in a future version.\n",
      "Instructions for updating:\n",
      "Use keras.layers.batch_normalization instead.\n",
      "WARNING:tensorflow:From C:\\Users\\murray\\pytorchEEG\\gcn_scripts\\ResGCN_Model.py:212: to_int64 (from tensorflow.python.ops.math_ops) is deprecated and will be removed in a future version.\n",
      "Instructions for updating:\n",
      "Use tf.cast instead.\n",
      "WARNING:tensorflow:From C:\\Users\\murray\\AppData\\Roaming\\Python\\Python36\\site-packages\\tensorflow\\python\\ops\\math_ops.py:3066: to_int32 (from tensorflow.python.ops.math_ops) is deprecated and will be removed in a future version.\n",
      "Instructions for updating:\n",
      "Use tf.cast instead.\n",
      "warning: logits/batch_normalization/gamma has no gradient\n",
      "warning: logits/batch_normalization/beta has no gradient\n",
      "step 100 / 44975 (epoch 0.11 / 50):\n",
      "learning_rate = 0.001000, loss_average = 1.365685\n",
      "Training   accuracy: 34.667969 (355 / 1024), f1 (weighted): 29.581604, loss: 1.335096\n",
      "validation accuracy: 31.270845 (72008 / 230272), f1 (weighted): 26.490220, loss: 1.381726\n",
      "time: 22s (wall 22s)\n",
      "\n",
      "\n",
      "step 200 / 44975 (epoch 0.22 / 50):\n",
      "learning_rate = 0.001000, loss_average = 1.277231\n",
      "Training   accuracy: 35.156250 (360 / 1024), f1 (weighted): 30.706057, loss: 1.276033\n",
      "validation accuracy: 34.332876 (79059 / 230272), f1 (weighted): 30.857307, loss: 1.352488\n",
      "time: 38s (wall 34s)\n",
      "\n",
      "\n",
      "step 300 / 44975 (epoch 0.33 / 50):\n",
      "learning_rate = 0.001000, loss_average = 1.238434\n",
      "Training   accuracy: 43.359375 (444 / 1024), f1 (weighted): 38.852492, loss: 1.226466\n",
      "validation accuracy: 35.395967 (81507 / 230272), f1 (weighted): 31.103795, loss: 1.323159\n",
      "time: 54s (wall 45s)\n",
      "\n",
      "\n",
      "step 400 / 44975 (epoch 0.44 / 50):\n",
      "learning_rate = 0.001000, loss_average = 1.222788\n",
      "Training   accuracy: 41.308594 (423 / 1024), f1 (weighted): 38.250334, loss: 1.222544\n",
      "validation accuracy: 37.321515 (85941 / 230272), f1 (weighted): 34.096796, loss: 1.313143\n",
      "time: 69s (wall 56s)\n",
      "\n",
      "\n",
      "step 500 / 44975 (epoch 0.56 / 50):\n",
      "learning_rate = 0.001000, loss_average = 1.197603\n",
      "Training   accuracy: 41.992188 (430 / 1024), f1 (weighted): 39.376846, loss: 1.197045\n",
      "validation accuracy: 38.058470 (87638 / 230272), f1 (weighted): 36.033092, loss: 1.307873\n",
      "time: 84s (wall 67s)\n",
      "\n",
      "\n"
     ]
    }
   ],
   "source": [
    "model = ResGCN_Model.cgcnn(L, **params)\n",
    "accuracy, loss, t_step = model.fit(X_train, train_label, X_test, test_label)"
   ]
  },
  {
   "cell_type": "code",
   "execution_count": null,
   "id": "8525ecd2",
   "metadata": {},
   "outputs": [],
   "source": []
  },
  {
   "cell_type": "code",
   "execution_count": null,
   "id": "826d4e44",
   "metadata": {},
   "outputs": [],
   "source": []
  },
  {
   "cell_type": "code",
   "execution_count": null,
   "id": "7ce71586",
   "metadata": {},
   "outputs": [],
   "source": []
  }
 ],
 "metadata": {
  "kernelspec": {
   "display_name": "Python 3",
   "language": "python",
   "name": "python3"
  },
  "language_info": {
   "codemirror_mode": {
    "name": "ipython",
    "version": 3
   },
   "file_extension": ".py",
   "mimetype": "text/x-python",
   "name": "python",
   "nbconvert_exporter": "python",
   "pygments_lexer": "ipython3",
   "version": "3.6.13"
  }
 },
 "nbformat": 4,
 "nbformat_minor": 5
}
