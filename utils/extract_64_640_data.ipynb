{
 "cells": [
  {
   "cell_type": "code",
   "execution_count": 1,
   "id": "a50971b2",
   "metadata": {},
   "outputs": [],
   "source": [
    "import pandas as pd\n",
    "import numpy as np\n",
    "from torch.utils.data import TensorDataset, DataLoader\n",
    "from torch import Tensor\n",
    "from sklearn.model_selection import train_test_split\n",
    "from sklearn.preprocessing import StandardScaler"
   ]
  },
  {
   "cell_type": "code",
   "execution_count": 2,
   "id": "e3655b31",
   "metadata": {},
   "outputs": [
    {
     "name": "stdout",
     "output_type": "stream",
     "text": [
      "(64, 863360) (64, 291200) (64, 284800) (64, 287360)\n"
     ]
    }
   ],
   "source": [
    "concate_df1 = []\n",
    "concate_df2 = []\n",
    "concate_df3 = []\n",
    "#concate_df4 = []\n",
    "\n",
    "for i in range(1,61):\n",
    "    filename1 = '../data/csv_file/class1_run'+str(i)+'.csv'\n",
    "    filename2 = '../data/csv_file/class2_run'+str(i)+'.csv'\n",
    "    filename3 = '../data/csv_file/class3_run'+str(i)+'.csv'\n",
    "    #filename4 = '../data/csv_file/class4_run'+str(i)+'.csv'\n",
    "    \n",
    "    df1 = pd.read_csv(filename1,header=None)\n",
    "    df2 = pd.read_csv(filename2,header=None)\n",
    "    df3 = pd.read_csv(filename3,header=None)\n",
    "    #df4 = pd.read_csv(filename4,header=None)\n",
    "    \n",
    "    concate_df1.append(df1)\n",
    "    concate_df2.append(df2)\n",
    "    concate_df3.append(df3)\n",
    "    #concate_df4.append(df4)\n",
    "    \n",
    "sum_df1 = pd.concat(concate_df1, axis=1)\n",
    "sum_df2 = pd.concat(concate_df2, axis=1)\n",
    "sum_df3 = pd.concat(concate_df3, axis=1)\n",
    "#sum_df4 = pd.concat(concate_df4, axis=1)\n",
    "#print(sum_df1.shape,sum_df2.shape,sum_df3.shape,sum_df4.shape) \n",
    "#X = pd.concat([sum_df1,sum_df2,sum_df3,sum_df4],axis=1)\n",
    "X = pd.concat([sum_df1,sum_df2,sum_df3],axis=1)\n",
    "\n",
    "print(X.shape,sum_df1.shape, sum_df2.shape, sum_df3.shape)"
   ]
  },
  {
   "cell_type": "code",
   "execution_count": 3,
   "id": "38769694",
   "metadata": {},
   "outputs": [
    {
     "name": "stdout",
     "output_type": "stream",
     "text": [
      "(64, 192000)\n",
      "(64, 288000)\n",
      "(64, 1151360)\n"
     ]
    }
   ],
   "source": [
    "#extract the class 4 data\n",
    "concate_df4 = []\n",
    "\n",
    "for i in range(1,21):\n",
    "    filename4 = '../data/csv_file/class4_run'+str(i)+'.csv'\n",
    "    df4 = pd.read_csv(filename4,header=None)\n",
    "    concate_df4.append(df4)\n",
    "    \n",
    "sum_df4 = pd.concat(concate_df4, axis=1)    \n",
    "print(sum_df4.shape)\n",
    "\n",
    "output = []\n",
    "\n",
    "# maually design 450 samples for class 4 \n",
    "for i in range(450):\n",
    "    offset = np.random.randint(0,sum_df4.shape[1]-640)\n",
    "    output.append(sum_df4.to_numpy()[:,offset:offset+640]) \n",
    "\n",
    "output_df4 = np.hstack(output)\n",
    "print(output_df4.shape)\n",
    "\n",
    "X = np.concatenate((X.to_numpy(), output_df4), axis=1)\n",
    "\n",
    "print(X.shape)"
   ]
  },
  {
   "cell_type": "code",
   "execution_count": 4,
   "id": "c2a3b200",
   "metadata": {},
   "outputs": [
    {
     "name": "stdout",
     "output_type": "stream",
     "text": [
      "(64, 1151360)\n"
     ]
    }
   ],
   "source": [
    "#average\n",
    "X_average = X - np.mean(X,0)\n",
    "print(X_average.shape)"
   ]
  },
  {
   "cell_type": "code",
   "execution_count": 5,
   "id": "330f3f97",
   "metadata": {},
   "outputs": [
    {
     "name": "stdout",
     "output_type": "stream",
     "text": [
      "(64, 1799, 640)\n",
      "(64, 1151360)\n"
     ]
    }
   ],
   "source": [
    "#standardization trail-wise\n",
    "trial_n = int(X_average.shape[1]/640)\n",
    "X_temp = X_average.reshape(64,trial_n,640)\n",
    "print(X_temp.shape)\n",
    "\n",
    "for i in range(64):\n",
    "    for j in range(640):\n",
    "        m = X_temp[i,:,j]\n",
    "        m = (m - m.mean())/m.std()\n",
    "        #print(m.mean(),m.std())\n",
    "        X_temp[i,:,j] = m\n",
    "\n",
    "X_normal = X_temp\n",
    "X_normal = X_normal.reshape(64,-1)\n",
    "\n",
    "print(X_normal.shape)"
   ]
  },
  {
   "cell_type": "code",
   "execution_count": 6,
   "id": "810c009b",
   "metadata": {},
   "outputs": [
    {
     "name": "stdout",
     "output_type": "stream",
     "text": [
      "(1799, 40960)\n"
     ]
    }
   ],
   "source": [
    "#cut to 640 \n",
    "#samples in each class 455 445 449 450\n",
    "empty_list = []\n",
    "for i in range(int(X_normal.shape[1]/640)):\n",
    "    temp = X_normal[:,640*i:640*(i+1)]\n",
    "    temp = temp.reshape(1,-1)\n",
    "    empty_list.append(temp)\n",
    "    \n",
    "\n",
    "X = np.vstack(empty_list)\n",
    "print(X.shape)"
   ]
  },
  {
   "cell_type": "code",
   "execution_count": 7,
   "id": "0e3eea12",
   "metadata": {},
   "outputs": [
    {
     "name": "stdout",
     "output_type": "stream",
     "text": [
      "(1799,)\n"
     ]
    }
   ],
   "source": [
    "#make label \n",
    "class1_label = np.zeros(int(sum_df1.shape[1]/640))\n",
    "class2_label = np.zeros(int(sum_df2.shape[1]/640)) + 1\n",
    "class3_label = np.zeros(int(sum_df3.shape[1]/640)) + 2\n",
    "class4_label = np.zeros(int(output_df4.shape[1]/640)) + 3\n",
    "\n",
    "Y = np.concatenate((class1_label,class2_label,class3_label,class4_label),axis=0)\n",
    "print(Y.shape)"
   ]
  },
  {
   "cell_type": "code",
   "execution_count": 8,
   "id": "f45f8b16",
   "metadata": {},
   "outputs": [
    {
     "name": "stdout",
     "output_type": "stream",
     "text": [
      "(1439, 40960) (1439,) (360, 40960) (360,)\n"
     ]
    }
   ],
   "source": [
    "train_set, test_set, train_label, test_label = train_test_split( X, Y, test_size=0.2, random_state=42)\n",
    "print(train_set.shape, train_label.shape, test_set.shape, test_label.shape)"
   ]
  },
  {
   "cell_type": "code",
   "execution_count": 9,
   "id": "64945487",
   "metadata": {},
   "outputs": [],
   "source": [
    "pd.DataFrame(train_set).to_csv(\"../data/64_640data/train_set.csv\",index = False)\n",
    "pd.DataFrame(train_label).to_csv(\"../data/64_640data/train_label.csv\",index = False)\n",
    "pd.DataFrame(test_set).to_csv(\"../data/64_640data/test_set.csv\",index = False)\n",
    "pd.DataFrame(test_label).to_csv(\"../data/64_640data/test_label.csv\",index = False)"
   ]
  },
  {
   "cell_type": "code",
   "execution_count": null,
   "id": "dec3fc18",
   "metadata": {},
   "outputs": [],
   "source": []
  }
 ],
 "metadata": {
  "kernelspec": {
   "display_name": "Python 3 (ipykernel)",
   "language": "python",
   "name": "python3"
  },
  "language_info": {
   "codemirror_mode": {
    "name": "ipython",
    "version": 3
   },
   "file_extension": ".py",
   "mimetype": "text/x-python",
   "name": "python",
   "nbconvert_exporter": "python",
   "pygments_lexer": "ipython3",
   "version": "3.9.7"
  }
 },
 "nbformat": 4,
 "nbformat_minor": 5
}
