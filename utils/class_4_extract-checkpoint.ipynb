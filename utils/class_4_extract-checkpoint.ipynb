{
 "cells": [
  {
   "cell_type": "code",
   "execution_count": 1,
   "id": "298fad73",
   "metadata": {},
   "outputs": [],
   "source": [
    "import pandas as pd\n",
    "import numpy as np"
   ]
  },
  {
   "cell_type": "code",
   "execution_count": 2,
   "id": "4e130903",
   "metadata": {},
   "outputs": [
    {
     "data": {
      "text/plain": [
       "(64, 9760)"
      ]
     },
     "execution_count": 2,
     "metadata": {},
     "output_type": "execute_result"
    }
   ],
   "source": [
    "num = pd.read_csv(\"../preprocess_data/csv_file/class4.csv\",header=None).to_numpy()\n",
    "num.shape"
   ]
  },
  {
   "cell_type": "code",
   "execution_count": 15,
   "id": "63e497bb",
   "metadata": {},
   "outputs": [
    {
     "name": "stdout",
     "output_type": "stream",
     "text": [
      "8930\n",
      "2257\n",
      "1648\n",
      "2140\n",
      "7045\n",
      "456\n",
      "4244\n",
      "4432\n"
     ]
    }
   ],
   "source": [
    "output1 = []\n",
    "for i in range(8):\n",
    "    offset = np.random.randint(0,num.shape[1]-640)\n",
    "    output1.append(num[:,offset:offset+640]) \n",
    "output1 = np.hstack(output1)\n",
    "pd.DataFrame(output1).to_csv(\"../preprocess_data/csv_file/class4_run1.csv\",index = False)\n",
    "        \n",
    "    \n",
    "output2 = []\n",
    "for i in range(8):\n",
    "    offset = np.random.randint(0,num.shape[1]-640)\n",
    "    output2.append(num[:,offset:offset+640])\n",
    "output2 = np.hstack(output2)    \n",
    "pd.DataFrame(output2).to_csv(\"../preprocess_data/csv_file/class4_run2.csv\",index = False)\n",
    "\n",
    "output3 = []\n",
    "for i in range(8):\n",
    "    offset = np.random.randint(0,num.shape[1]-640)\n",
    "    output3.append(num[:,offset:offset+640])\n",
    "output3 = np.hstack(output3)    \n",
    "pd.DataFrame(output3).to_csv(\"../preprocess_data/csv_file/class4_run3.csv\",index = False)"
   ]
  },
  {
   "cell_type": "code",
   "execution_count": 14,
   "id": "e7e65b2c",
   "metadata": {},
   "outputs": [
    {
     "data": {
      "text/plain": [
       "(64, 5120)"
      ]
     },
     "execution_count": 14,
     "metadata": {},
     "output_type": "execute_result"
    }
   ],
   "source": [
    "output1.shape"
   ]
  },
  {
   "cell_type": "code",
   "execution_count": null,
   "id": "7a9595e3",
   "metadata": {},
   "outputs": [],
   "source": []
  }
 ],
 "metadata": {
  "kernelspec": {
   "display_name": "Python 3 (ipykernel)",
   "language": "python",
   "name": "python3"
  },
  "language_info": {
   "codemirror_mode": {
    "name": "ipython",
    "version": 3
   },
   "file_extension": ".py",
   "mimetype": "text/x-python",
   "name": "python",
   "nbconvert_exporter": "python",
   "pygments_lexer": "ipython3",
   "version": "3.9.7"
  }
 },
 "nbformat": 4,
 "nbformat_minor": 5
}
