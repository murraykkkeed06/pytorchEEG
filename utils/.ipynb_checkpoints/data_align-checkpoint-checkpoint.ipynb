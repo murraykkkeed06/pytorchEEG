{
 "cells": [
  {
   "cell_type": "code",
   "execution_count": 1,
   "id": "9a5fdf8e",
   "metadata": {},
   "outputs": [],
   "source": [
    "import pandas as pd\n",
    "import numpy as np\n",
    "from torch.utils.data import TensorDataset, DataLoader\n",
    "from torch import Tensor\n",
    "from sklearn.model_selection import train_test_split\n",
    "from sklearn.preprocessing import StandardScaler"
   ]
  },
  {
   "cell_type": "code",
   "execution_count": 2,
   "id": "7aa585c8",
   "metadata": {},
   "outputs": [
    {
     "name": "stdout",
     "output_type": "stream",
     "text": [
      "(64, 863360) (64, 291200) (64, 284800) (64, 287360)\n"
     ]
    }
   ],
   "source": [
    "concate_df1 = []\n",
    "concate_df2 = []\n",
    "concate_df3 = []\n",
    "#concate_df4 = []\n",
    "\n",
    "for i in range(1,61):\n",
    "    filename1 = '../data/csv_file/class1_run'+str(i)+'.csv'\n",
    "    filename2 = '../data/csv_file/class2_run'+str(i)+'.csv'\n",
    "    filename3 = '../data/csv_file/class3_run'+str(i)+'.csv'\n",
    "    #filename4 = '../data/csv_file/class4_run'+str(i)+'.csv'\n",
    "    \n",
    "    df1 = pd.read_csv(filename1,header=None)\n",
    "    df2 = pd.read_csv(filename2,header=None)\n",
    "    df3 = pd.read_csv(filename3,header=None)\n",
    "    #df4 = pd.read_csv(filename4,header=None)\n",
    "    \n",
    "    concate_df1.append(df1)\n",
    "    concate_df2.append(df2)\n",
    "    concate_df3.append(df3)\n",
    "    #concate_df4.append(df4)\n",
    "    \n",
    "sum_df1 = pd.concat(concate_df1, axis=1)\n",
    "sum_df2 = pd.concat(concate_df2, axis=1)\n",
    "sum_df3 = pd.concat(concate_df3, axis=1)\n",
    "#sum_df4 = pd.concat(concate_df4, axis=1)\n",
    "#print(sum_df1.shape,sum_df2.shape,sum_df3.shape,sum_df4.shape) \n",
    "#X = pd.concat([sum_df1,sum_df2,sum_df3,sum_df4],axis=1)\n",
    "X = pd.concat([sum_df1,sum_df2,sum_df3],axis=1)\n",
    "\n",
    "print(X.shape,sum_df1.shape, sum_df2.shape, sum_df3.shape)"
   ]
  },
  {
   "cell_type": "code",
   "execution_count": 4,
   "id": "ab0c64b9",
   "metadata": {},
   "outputs": [
    {
     "name": "stdout",
     "output_type": "stream",
     "text": [
      "1349.0 455.0 445.0 449.0\n"
     ]
    }
   ],
   "source": [
    "print(X.shape[1]/640,sum_df1.shape[1]/640, sum_df2.shape[1]/640, sum_df3.shape[1]/640)"
   ]
  },
  {
   "cell_type": "code",
   "execution_count": 14,
   "id": "999c48e7",
   "metadata": {},
   "outputs": [
    {
     "name": "stdout",
     "output_type": "stream",
     "text": [
      "(64, 192000)\n",
      "(64, 288000)\n"
     ]
    },
    {
     "ename": "TypeError",
     "evalue": "cannot concatenate object of type '<class 'numpy.ndarray'>'; only Series and DataFrame objs are valid",
     "output_type": "error",
     "traceback": [
      "\u001b[1;31m---------------------------------------------------------------------------\u001b[0m",
      "\u001b[1;31mTypeError\u001b[0m                                 Traceback (most recent call last)",
      "\u001b[1;32m~\\AppData\\Local\\Temp/ipykernel_7112/3751225273.py\u001b[0m in \u001b[0;36m<module>\u001b[1;34m\u001b[0m\n\u001b[0;32m     20\u001b[0m \u001b[0mprint\u001b[0m\u001b[1;33m(\u001b[0m\u001b[0moutput_df4\u001b[0m\u001b[1;33m.\u001b[0m\u001b[0mshape\u001b[0m\u001b[1;33m)\u001b[0m\u001b[1;33m\u001b[0m\u001b[1;33m\u001b[0m\u001b[0m\n\u001b[0;32m     21\u001b[0m \u001b[1;33m\u001b[0m\u001b[0m\n\u001b[1;32m---> 22\u001b[1;33m \u001b[0mX\u001b[0m \u001b[1;33m=\u001b[0m \u001b[0mpd\u001b[0m\u001b[1;33m.\u001b[0m\u001b[0mconcat\u001b[0m\u001b[1;33m(\u001b[0m\u001b[1;33m[\u001b[0m\u001b[0mX\u001b[0m\u001b[1;33m,\u001b[0m\u001b[0moutput_df4\u001b[0m\u001b[1;33m]\u001b[0m\u001b[1;33m,\u001b[0m\u001b[0maxis\u001b[0m\u001b[1;33m=\u001b[0m\u001b[1;36m1\u001b[0m\u001b[1;33m)\u001b[0m\u001b[1;33m\u001b[0m\u001b[1;33m\u001b[0m\u001b[0m\n\u001b[0m\u001b[0;32m     23\u001b[0m \u001b[0mprint\u001b[0m\u001b[1;33m(\u001b[0m\u001b[0mX\u001b[0m\u001b[1;33m.\u001b[0m\u001b[0mshape\u001b[0m\u001b[1;33m)\u001b[0m\u001b[1;33m\u001b[0m\u001b[1;33m\u001b[0m\u001b[0m\n",
      "\u001b[1;32m~\\anaconda3\\envs\\pytorchEEG\\lib\\site-packages\\pandas\\util\\_decorators.py\u001b[0m in \u001b[0;36mwrapper\u001b[1;34m(*args, **kwargs)\u001b[0m\n\u001b[0;32m    309\u001b[0m                     \u001b[0mstacklevel\u001b[0m\u001b[1;33m=\u001b[0m\u001b[0mstacklevel\u001b[0m\u001b[1;33m,\u001b[0m\u001b[1;33m\u001b[0m\u001b[1;33m\u001b[0m\u001b[0m\n\u001b[0;32m    310\u001b[0m                 )\n\u001b[1;32m--> 311\u001b[1;33m             \u001b[1;32mreturn\u001b[0m \u001b[0mfunc\u001b[0m\u001b[1;33m(\u001b[0m\u001b[1;33m*\u001b[0m\u001b[0margs\u001b[0m\u001b[1;33m,\u001b[0m \u001b[1;33m**\u001b[0m\u001b[0mkwargs\u001b[0m\u001b[1;33m)\u001b[0m\u001b[1;33m\u001b[0m\u001b[1;33m\u001b[0m\u001b[0m\n\u001b[0m\u001b[0;32m    312\u001b[0m \u001b[1;33m\u001b[0m\u001b[0m\n\u001b[0;32m    313\u001b[0m         \u001b[1;32mreturn\u001b[0m \u001b[0mwrapper\u001b[0m\u001b[1;33m\u001b[0m\u001b[1;33m\u001b[0m\u001b[0m\n",
      "\u001b[1;32m~\\anaconda3\\envs\\pytorchEEG\\lib\\site-packages\\pandas\\core\\reshape\\concat.py\u001b[0m in \u001b[0;36mconcat\u001b[1;34m(objs, axis, join, ignore_index, keys, levels, names, verify_integrity, sort, copy)\u001b[0m\n\u001b[0;32m    292\u001b[0m     \u001b[0mValueError\u001b[0m\u001b[1;33m:\u001b[0m \u001b[0mIndexes\u001b[0m \u001b[0mhave\u001b[0m \u001b[0moverlapping\u001b[0m \u001b[0mvalues\u001b[0m\u001b[1;33m:\u001b[0m \u001b[1;33m[\u001b[0m\u001b[1;34m'a'\u001b[0m\u001b[1;33m]\u001b[0m\u001b[1;33m\u001b[0m\u001b[1;33m\u001b[0m\u001b[0m\n\u001b[0;32m    293\u001b[0m     \"\"\"\n\u001b[1;32m--> 294\u001b[1;33m     op = _Concatenator(\n\u001b[0m\u001b[0;32m    295\u001b[0m         \u001b[0mobjs\u001b[0m\u001b[1;33m,\u001b[0m\u001b[1;33m\u001b[0m\u001b[1;33m\u001b[0m\u001b[0m\n\u001b[0;32m    296\u001b[0m         \u001b[0maxis\u001b[0m\u001b[1;33m=\u001b[0m\u001b[0maxis\u001b[0m\u001b[1;33m,\u001b[0m\u001b[1;33m\u001b[0m\u001b[1;33m\u001b[0m\u001b[0m\n",
      "\u001b[1;32m~\\anaconda3\\envs\\pytorchEEG\\lib\\site-packages\\pandas\\core\\reshape\\concat.py\u001b[0m in \u001b[0;36m__init__\u001b[1;34m(self, objs, axis, join, keys, levels, names, ignore_index, verify_integrity, copy, sort)\u001b[0m\n\u001b[0;32m    382\u001b[0m                     \u001b[1;34m\"only Series and DataFrame objs are valid\"\u001b[0m\u001b[1;33m\u001b[0m\u001b[1;33m\u001b[0m\u001b[0m\n\u001b[0;32m    383\u001b[0m                 )\n\u001b[1;32m--> 384\u001b[1;33m                 \u001b[1;32mraise\u001b[0m \u001b[0mTypeError\u001b[0m\u001b[1;33m(\u001b[0m\u001b[0mmsg\u001b[0m\u001b[1;33m)\u001b[0m\u001b[1;33m\u001b[0m\u001b[1;33m\u001b[0m\u001b[0m\n\u001b[0m\u001b[0;32m    385\u001b[0m \u001b[1;33m\u001b[0m\u001b[0m\n\u001b[0;32m    386\u001b[0m             \u001b[0mndims\u001b[0m\u001b[1;33m.\u001b[0m\u001b[0madd\u001b[0m\u001b[1;33m(\u001b[0m\u001b[0mobj\u001b[0m\u001b[1;33m.\u001b[0m\u001b[0mndim\u001b[0m\u001b[1;33m)\u001b[0m\u001b[1;33m\u001b[0m\u001b[1;33m\u001b[0m\u001b[0m\n",
      "\u001b[1;31mTypeError\u001b[0m: cannot concatenate object of type '<class 'numpy.ndarray'>'; only Series and DataFrame objs are valid"
     ]
    }
   ],
   "source": [
    "#extract the class 4 data\n",
    "concate_df4 = []\n",
    "\n",
    "for i in range(1,21):\n",
    "    filename4 = '../data/csv_file/class4_run'+str(i)+'.csv'\n",
    "    df4 = pd.read_csv(filename4,header=None)\n",
    "    concate_df4.append(df4)\n",
    "    \n",
    "sum_df4 = pd.concat(concate_df4, axis=1)    \n",
    "print(sum_df4.shape)\n",
    "\n",
    "output = []\n",
    "\n",
    "\n",
    "for i in range(450):\n",
    "    offset = np.random.randint(0,sum_df4.shape[1]-640)\n",
    "    output.append(sum_df4.to_numpy()[:,offset:offset+640]) \n",
    "\n",
    "output_df4 = np.hstack(output)\n",
    "print(output_df4.shape)\n",
    "\n",
    "X = pd.concat([X,output_df4],axis=1)\n",
    "\n",
    "print(X.shape)"
   ]
  },
  {
   "cell_type": "code",
   "execution_count": 13,
   "id": "771db76a",
   "metadata": {},
   "outputs": [
    {
     "data": {
      "text/plain": [
       "array([[  0,  10,  34, ...,  42,  27,  33],\n",
       "       [ 13,  23,  39, ...,  35,  31,  46],\n",
       "       [ 30,  41,  52, ...,  31,  37,  49],\n",
       "       ...,\n",
       "       [-51, -51, -25, ...,  -5, -13,  -1],\n",
       "       [-60, -60, -42, ...,  -3, -11,  -1],\n",
       "       [ -5, -10,  16, ..., -37, -49, -27]], dtype=int64)"
      ]
     },
     "execution_count": 13,
     "metadata": {},
     "output_type": "execute_result"
    }
   ],
   "source": [
    "sum_df4.to_numpy()[:,50:100]"
   ]
  },
  {
   "cell_type": "code",
   "execution_count": 6,
   "id": "5cbfc727",
   "metadata": {},
   "outputs": [
    {
     "name": "stdout",
     "output_type": "stream",
     "text": [
      "    0     1     2     3     4     5     6     7     8     9     ...  9750  \\\n",
      "0    -16   -56   -55   -50   -36   -45   -27    -4   -38   -21  ...     0   \n",
      "1    -29   -54   -55   -44   -28   -29   -11    -4   -20    -8  ...     0   \n",
      "2      2   -27   -29   -13    13    12    25    22    16    39  ...     0   \n",
      "3     22    -4    -5    13    42    50    54    46    52    81  ...     0   \n",
      "4    -12   -31   -29   -16     9    13    17    18    28    52  ...     0   \n",
      "..   ...   ...   ...   ...   ...   ...   ...   ...   ...   ...  ...   ...   \n",
      "59   -33    -9    -7     7     6    -4    29    31     5    -4  ...     0   \n",
      "60   -53   -53   -45   -29   -13    -3    10    21    22    25  ...     0   \n",
      "61   -21   -12     2    16    29    30    39    48    44    42  ...     0   \n",
      "62   -11     1    18    35    40    29    33    45    44    40  ...     0   \n",
      "63    15    21    35    47    50    39    46    59    60    64  ...     0   \n",
      "\n",
      "    9751  9752  9753  9754  9755  9756  9757  9758  9759  \n",
      "0      0     0     0     0     0     0     0     0     0  \n",
      "1      0     0     0     0     0     0     0     0     0  \n",
      "2      0     0     0     0     0     0     0     0     0  \n",
      "3      0     0     0     0     0     0     0     0     0  \n",
      "4      0     0     0     0     0     0     0     0     0  \n",
      "..   ...   ...   ...   ...   ...   ...   ...   ...   ...  \n",
      "59     0     0     0     0     0     0     0     0     0  \n",
      "60     0     0     0     0     0     0     0     0     0  \n",
      "61     0     0     0     0     0     0     0     0     0  \n",
      "62     0     0     0     0     0     0     0     0     0  \n",
      "63     0     0     0     0     0     0     0     0     0  \n",
      "\n",
      "[64 rows x 195040 columns]\n"
     ]
    }
   ],
   "source": [
    "print(sum_df4)"
   ]
  },
  {
   "cell_type": "code",
   "execution_count": null,
   "id": "7dd5799b",
   "metadata": {},
   "outputs": [],
   "source": []
  },
  {
   "cell_type": "code",
   "execution_count": null,
   "id": "f26bff02",
   "metadata": {},
   "outputs": [],
   "source": []
  },
  {
   "cell_type": "code",
   "execution_count": 3,
   "id": "0bec43f7",
   "metadata": {},
   "outputs": [
    {
     "name": "stdout",
     "output_type": "stream",
     "text": [
      "   0     1     2     3     4     5     6     7     8     9     ...  5110  \\\n",
      "0   -18    -6     1   -16     3    -6     4    -6     4    13  ...    38   \n",
      "1    25    20    17     2    15    11    29    27    32    39  ...    59   \n",
      "2    43    44    31    11    26    20    43    50    51    52  ...    76   \n",
      "3    31    32    21     7    17    10    43    51    60    55  ...    70   \n",
      "4    29    26    26    21    34    34    67    77    79    72  ...    70   \n",
      "\n",
      "   5111  5112  5113  5114  5115  5116  5117  5118  5119  \n",
      "0    26    43    23    30    80    93   112   100   131  \n",
      "1    36    33    22    31    56    74    94    83   122  \n",
      "2    39    16    23    40    54    70    90    96   128  \n",
      "3    20    -2    21    53    60    68    93   110   135  \n",
      "4    24     2    15    45    47    57    94   122   144  \n",
      "\n",
      "[5 rows x 57600 columns]\n"
     ]
    }
   ],
   "source": [
    "#print(X[0].to_numpy().reshape(90,640))\n",
    "print(X.head(5))"
   ]
  },
  {
   "cell_type": "code",
   "execution_count": null,
   "id": "21421f0e",
   "metadata": {},
   "outputs": [],
   "source": []
  },
  {
   "cell_type": "code",
   "execution_count": 4,
   "id": "4588454b",
   "metadata": {},
   "outputs": [
    {
     "name": "stdout",
     "output_type": "stream",
     "text": [
      "(64, 57600)\n"
     ]
    }
   ],
   "source": [
    "#average\n",
    "X_average = X.to_numpy() - np.mean(X.to_numpy(),0)\n",
    "print(X_average.shape)"
   ]
  },
  {
   "cell_type": "code",
   "execution_count": 5,
   "id": "6d95d4bd",
   "metadata": {},
   "outputs": [
    {
     "name": "stdout",
     "output_type": "stream",
     "text": [
      "(64, 90, 640)\n",
      "(64, 57600)\n"
     ]
    }
   ],
   "source": [
    "#standardization trail-wise\n",
    "trial_n = int(X_average.shape[1]/640)\n",
    "X_temp = X_average.reshape(64,trial_n,640)\n",
    "print(X_temp.shape)\n",
    "\n",
    "for i in range(64):\n",
    "    for j in range(640):\n",
    "        m = X_temp[i,:,j]\n",
    "        m = (m - m.mean())/m.std()\n",
    "        #print(m.mean(),m.std())\n",
    "        X_temp[i,:,j] = m\n",
    "\n",
    "X_normal = X_temp\n",
    "X_normal = X_normal.reshape(64,-1)\n",
    "\n",
    "print(X_normal.shape)\n"
   ]
  },
  {
   "cell_type": "code",
   "execution_count": 6,
   "id": "848b94ba",
   "metadata": {},
   "outputs": [
    {
     "name": "stdout",
     "output_type": "stream",
     "text": [
      "(900, 4096)\n"
     ]
    }
   ],
   "source": [
    "#type2\n",
    "empty_list = []\n",
    "for i in range(int(X_normal.shape[1]/64)):\n",
    "    temp = X_normal[:,64*i:64*(i+1)]\n",
    "    temp = np.transpose(temp)\n",
    "    temp = temp.reshape(1,-1)\n",
    "    empty_list.append(temp)\n",
    "    \n",
    "\n",
    "X = np.vstack(empty_list)\n",
    "print(X.shape)"
   ]
  },
  {
   "cell_type": "code",
   "execution_count": 7,
   "id": "cd0d7351",
   "metadata": {},
   "outputs": [
    {
     "name": "stdout",
     "output_type": "stream",
     "text": [
      "(900,)\n"
     ]
    }
   ],
   "source": [
    "#make label \n",
    "class1_label = np.zeros(int(sum_df1.shape[1]/64))\n",
    "class2_label = np.zeros(int(sum_df2.shape[1]/64)) + 1\n",
    "class3_label = np.zeros(int(sum_df3.shape[1]/64)) + 2\n",
    "class4_label = np.zeros(int(sum_df4.shape[1]/64)) + 3\n",
    "\n",
    "Y = np.concatenate((class1_label,class2_label,class3_label,class4_label),axis=0)\n",
    "print(Y.shape)"
   ]
  },
  {
   "cell_type": "code",
   "execution_count": 8,
   "id": "b5ec81dc",
   "metadata": {},
   "outputs": [
    {
     "name": "stdout",
     "output_type": "stream",
     "text": [
      "(720, 4096) (720,) (180, 4096) (180,)\n"
     ]
    }
   ],
   "source": [
    "train_set, test_set, train_label, test_label = train_test_split( X, Y, test_size=0.2, random_state=42)\n",
    "\n",
    "print(train_set.shape, train_label.shape, test_set.shape, test_label.shape)"
   ]
  },
  {
   "cell_type": "code",
   "execution_count": 9,
   "id": "1f97da83",
   "metadata": {},
   "outputs": [],
   "source": [
    "pd.DataFrame(train_set).to_csv(\"../preprocess_data/final_format/train_set.csv\",index = False)\n",
    "pd.DataFrame(train_label).to_csv(\"../preprocess_data/final_format/train_label.csv\",index = False)\n",
    "pd.DataFrame(test_set).to_csv(\"../preprocess_data/final_format/test_set.csv\",index = False)\n",
    "pd.DataFrame(test_label).to_csv(\"../preprocess_data/final_format/test_label.csv\",index = False)"
   ]
  },
  {
   "cell_type": "code",
   "execution_count": null,
   "id": "2b02c783",
   "metadata": {},
   "outputs": [],
   "source": []
  }
 ],
 "metadata": {
  "kernelspec": {
   "display_name": "Python 3 (ipykernel)",
   "language": "python",
   "name": "python3"
  },
  "language_info": {
   "codemirror_mode": {
    "name": "ipython",
    "version": 3
   },
   "file_extension": ".py",
   "mimetype": "text/x-python",
   "name": "python",
   "nbconvert_exporter": "python",
   "pygments_lexer": "ipython3",
   "version": "3.9.7"
  }
 },
 "nbformat": 4,
 "nbformat_minor": 5
}
