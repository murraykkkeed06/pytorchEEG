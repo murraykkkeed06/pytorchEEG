{
 "cells": [
  {
   "cell_type": "code",
   "execution_count": 2,
   "id": "9ce5e4e3",
   "metadata": {},
   "outputs": [],
   "source": [
    "from gcn_scripts import DenseGCN_Model, graph, coarsening\n",
    "import numpy as np\n",
    "import pandas as pd\n",
    "import matplotlib.pyplot as plt"
   ]
  },
  {
   "cell_type": "code",
   "execution_count": 3,
   "id": "d8a3116a",
   "metadata": {},
   "outputs": [],
   "source": [
    "train_set = pd.read_csv(\"data/final_format/train_set.csv\",header=None).to_numpy()\n",
    "train_label = pd.read_csv(\"data/final_format/train_label.csv\",header=None).to_numpy()\n",
    "test_set = pd.read_csv(\"data/final_format/test_set.csv\",header=None).to_numpy()\n",
    "test_label = pd.read_csv(\"data/final_format/test_label.csv\",header=None).to_numpy()"
   ]
  },
  {
   "cell_type": "code",
   "execution_count": 4,
   "id": "37f64e3c",
   "metadata": {},
   "outputs": [
    {
     "name": "stdout",
     "output_type": "stream",
     "text": [
      "(14393, 4096) (14393, 1) (3599, 4096) (3599, 1)\n"
     ]
    }
   ],
   "source": [
    "print(train_set.shape, train_label.shape, test_set.shape, test_label.shape)"
   ]
  },
  {
   "cell_type": "code",
   "execution_count": 5,
   "id": "27d522cc",
   "metadata": {},
   "outputs": [
    {
     "name": "stdout",
     "output_type": "stream",
     "text": [
      "(14392, 4096) (14392, 1) (3598, 4096) (3598, 1)\n"
     ]
    }
   ],
   "source": [
    "#delet first row data\n",
    "train_set = train_set[1:]\n",
    "train_label = train_label[1:]\n",
    "test_set = test_set[1:]\n",
    "test_label = test_label[1:]\n",
    "print(train_set.shape, train_label.shape, test_set.shape, test_label.shape)"
   ]
  },
  {
   "cell_type": "code",
   "execution_count": 6,
   "id": "65794c4d",
   "metadata": {},
   "outputs": [
    {
     "name": "stdout",
     "output_type": "stream",
     "text": [
      "(14392, 64, 64) (14392,) (3598, 64, 64) (3598,)\n"
     ]
    }
   ],
   "source": [
    "train_set = train_set.reshape((-1,64,64))\n",
    "train_set = np.transpose(train_set, (0, 2, 1))\n",
    "test_set = test_set.reshape((-1,64,64))\n",
    "test_set = np.transpose(test_set, (0, 2, 1))\n",
    "train_label = train_label.reshape(-1)\n",
    "test_label = test_label.reshape(-1)\n",
    "print(train_set.shape, train_label.shape, test_set.shape, test_label.shape)"
   ]
  },
  {
   "cell_type": "code",
   "execution_count": null,
   "id": "94ecca77",
   "metadata": {},
   "outputs": [],
   "source": [
    "#set data for gcn model\n",
    "train_label_holder = np.ones((0))\n",
    "test_label_holder = np.ones((0))\n",
    "\n",
    "for i in range(train_set.shape[0]):\n",
    "    temp = np.full((64), train_label[i])\n",
    "    train_label_holder = np.concatenate((train_label_holder, temp), axis=0)\n",
    "    \n",
    "for i in range(test_set.shape[0]):\n",
    "    temp = np.full((64), test_label[i])\n",
    "    test_label_holder = np.concatenate((test_label_holder, temp), axis=0)\n",
    "\n",
    "train_set = train_set.reshape((-1,64))\n",
    "test_set = test_set.reshape((-1,64))\n",
    "train_label = train_label_holder\n",
    "test_label = test_label_holder\n",
    "print(train_set.shape, train_label.shape, test_set.shape, test_label.shape)"
   ]
  },
  {
   "cell_type": "code",
   "execution_count": null,
   "id": "2fb5d3ac",
   "metadata": {},
   "outputs": [],
   "source": [
    "dist, idx = graph.distance_scipy_spatial(train_set.T, k=10, metric='euclidean')\n",
    "A = graph.adjacency(dist, idx).astype(np.float32)"
   ]
  },
  {
   "cell_type": "code",
   "execution_count": null,
   "id": "763ec0f4",
   "metadata": {},
   "outputs": [],
   "source": [
    "plt.spy(A, markersize=2, color='black');"
   ]
  },
  {
   "cell_type": "code",
   "execution_count": null,
   "id": "cb21e36c",
   "metadata": {},
   "outputs": [],
   "source": [
    "graphs, perm = coarsening.coarsen(A, levels=5, self_connections=False)"
   ]
  },
  {
   "cell_type": "code",
   "execution_count": null,
   "id": "e9ed3538",
   "metadata": {},
   "outputs": [],
   "source": [
    "X_train = coarsening.perm_data(train_set, perm)\n",
    "X_test  = coarsening.perm_data(test_set,  perm)"
   ]
  },
  {
   "cell_type": "code",
   "execution_count": null,
   "id": "402afeac",
   "metadata": {},
   "outputs": [],
   "source": [
    "L = [graph.laplacian(A, normalized=True) for A in graphs]\n",
    "graph.plot_spectrum(L)"
   ]
  },
  {
   "cell_type": "code",
   "execution_count": null,
   "id": "8e28efe7",
   "metadata": {},
   "outputs": [],
   "source": [
    "params = dict()\n",
    "params['dir_name']       = 'DenseGCN'\n",
    "params['num_epochs']     = 100\n",
    "params['batch_size']     = 1024\n",
    "params['eval_frequency'] = 100\n",
    "\n",
    "# Building blocks.\n",
    "params['filter'] = 'chebyshev5'\n",
    "params['brelu']  = 'b2relu'\n",
    "params['pool']   = 'mpool1'\n",
    "\n",
    "# Architecture.\n",
    "params['F'] = [16, 32, 64, 128, 256, 512]         # Number of graph convolutional filters.\n",
    "params['K'] = [2, 2, 2, 2, 2, 2]                  # Polynomial orders.\n",
    "params['p'] = [1, 1, 1, 1, 1, 1]                  # Pooling sizes.\n",
    "params['M'] = [4]                                 # Output dimensionality of fully connected layers.\n",
    "\n",
    "# Optimization.\n",
    "params['regularization'] = 0.001     # L2 regularization\n",
    "params['dropout']        = 0.50      # Dropout rate\n",
    "params['learning_rate']  = 0.01      # Learning rate\n",
    "params['decay_rate']     = 1         # Learning rate Decay == 1 means no Decay\n",
    "params['momentum']       = 0         # momentum == 0 means Use Adam Optimizer\n",
    "params['decay_steps']    = np.shape(train_data)[0] / params['batch_size']"
   ]
  },
  {
   "cell_type": "code",
   "execution_count": null,
   "id": "84927873",
   "metadata": {},
   "outputs": [],
   "source": [
    "model = DenseGCN_Model.cgcnn(L, **params)\n",
    "accuracy, loss, t_step = model.fit(X_train, train_label, X_test, test_label)"
   ]
  },
  {
   "cell_type": "code",
   "execution_count": null,
   "id": "8525ecd2",
   "metadata": {},
   "outputs": [],
   "source": []
  },
  {
   "cell_type": "code",
   "execution_count": null,
   "id": "826d4e44",
   "metadata": {},
   "outputs": [],
   "source": []
  },
  {
   "cell_type": "code",
   "execution_count": null,
   "id": "7ce71586",
   "metadata": {},
   "outputs": [],
   "source": []
  }
 ],
 "metadata": {
  "kernelspec": {
   "display_name": "Python 3",
   "language": "python",
   "name": "python3"
  },
  "language_info": {
   "codemirror_mode": {
    "name": "ipython",
    "version": 3
   },
   "file_extension": ".py",
   "mimetype": "text/x-python",
   "name": "python",
   "nbconvert_exporter": "python",
   "pygments_lexer": "ipython3",
   "version": "3.6.13"
  }
 },
 "nbformat": 4,
 "nbformat_minor": 5
}
